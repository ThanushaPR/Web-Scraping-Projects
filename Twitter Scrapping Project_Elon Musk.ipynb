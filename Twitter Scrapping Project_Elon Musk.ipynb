{
 "cells": [
  {
   "cell_type": "code",
   "execution_count": 2,
   "id": "8734becc",
   "metadata": {},
   "outputs": [
    {
     "name": "stdout",
     "output_type": "stream",
     "text": [
      "Collecting snscrape\n",
      "  Downloading snscrape-0.4.3.20220106-py3-none-any.whl (59 kB)\n",
      "Requirement already satisfied: lxml in c:\\users\\thanu\\anaconda5\\lib\\site-packages (from snscrape) (4.6.3)\n",
      "Requirement already satisfied: filelock in c:\\users\\thanu\\anaconda5\\lib\\site-packages (from snscrape) (3.3.1)\n",
      "Requirement already satisfied: beautifulsoup4 in c:\\users\\thanu\\anaconda5\\lib\\site-packages (from snscrape) (4.10.0)\n",
      "Requirement already satisfied: requests[socks] in c:\\users\\thanu\\anaconda5\\lib\\site-packages (from snscrape) (2.28.1)\n",
      "Requirement already satisfied: soupsieve>1.2 in c:\\users\\thanu\\anaconda5\\lib\\site-packages (from beautifulsoup4->snscrape) (2.2.1)\n",
      "Requirement already satisfied: urllib3<1.27,>=1.21.1 in c:\\users\\thanu\\anaconda5\\lib\\site-packages (from requests[socks]->snscrape) (1.26.7)\n",
      "Requirement already satisfied: certifi>=2017.4.17 in c:\\users\\thanu\\anaconda5\\lib\\site-packages (from requests[socks]->snscrape) (2021.10.8)\n",
      "Requirement already satisfied: charset-normalizer<3,>=2 in c:\\users\\thanu\\anaconda5\\lib\\site-packages (from requests[socks]->snscrape) (2.0.4)\n",
      "Requirement already satisfied: idna<4,>=2.5 in c:\\users\\thanu\\anaconda5\\lib\\site-packages (from requests[socks]->snscrape) (3.2)\n",
      "Requirement already satisfied: PySocks!=1.5.7,>=1.5.6 in c:\\users\\thanu\\anaconda5\\lib\\site-packages (from requests[socks]->snscrape) (1.7.1)\n",
      "Installing collected packages: snscrape\n",
      "Successfully installed snscrape-0.4.3.20220106\n",
      "Note: you may need to restart the kernel to use updated packages.\n"
     ]
    },
    {
     "name": "stderr",
     "output_type": "stream",
     "text": [
      "WARNING: You are using pip version 22.0.4; however, version 22.2.2 is available.\n",
      "You should consider upgrading via the 'C:\\Users\\thanu\\anaconda5\\python.exe -m pip install --upgrade pip' command.\n"
     ]
    }
   ],
   "source": [
    "pip install snscrape"
   ]
  },
  {
   "cell_type": "code",
   "execution_count": 3,
   "id": "b105ec29",
   "metadata": {},
   "outputs": [],
   "source": [
    "import snscrape.modules.twitter as sntwitter\n",
    "import pandas as pd"
   ]
  },
  {
   "cell_type": "code",
   "execution_count": 14,
   "id": "302ded3c",
   "metadata": {},
   "outputs": [],
   "source": [
    "query = \"(from:elonmusk) until:2022-08-31 since:2010-01-01\"\n",
    "tweets = []\n",
    "limit = 100000"
   ]
  },
  {
   "cell_type": "code",
   "execution_count": 15,
   "id": "dd17483c",
   "metadata": {},
   "outputs": [
    {
     "name": "stderr",
     "output_type": "stream",
     "text": [
      "C:\\Users\\thanu\\AppData\\Local\\Temp/ipykernel_24148/2366240492.py:8: FutureWarning: username is deprecated, use user.username instead\n",
      "  tweets.append([tweet.date, tweet.username, tweet.content])\n"
     ]
    },
    {
     "name": "stdout",
     "output_type": "stream",
     "text": [
      "                           Date      User  \\\n",
      "0     2022-08-30 22:52:58+00:00  elonmusk   \n",
      "1     2022-08-30 22:51:00+00:00  elonmusk   \n",
      "2     2022-08-30 22:50:03+00:00  elonmusk   \n",
      "3     2022-08-30 22:47:31+00:00  elonmusk   \n",
      "4     2022-08-30 22:38:14+00:00  elonmusk   \n",
      "...                         ...       ...   \n",
      "17348 2011-12-03 08:22:07+00:00  elonmusk   \n",
      "17349 2011-12-03 08:20:28+00:00  elonmusk   \n",
      "17350 2011-12-01 10:29:04+00:00  elonmusk   \n",
      "17351 2011-12-01 09:55:11+00:00  elonmusk   \n",
      "17352 2010-06-04 18:31:57+00:00  elonmusk   \n",
      "\n",
      "                                                   Tweet  \n",
      "0      @WholeMarsBlog @jonbbc @aelluswamy 10.69.2 goe...  \n",
      "1                           @MuskUniversity SJM question  \n",
      "2      Spent the day walking entire Giga Berlin produ...  \n",
      "3      @jonbbc @WholeMarsBlog @aelluswamy 10.69.1 is ...  \n",
      "4      Kickass Internet connection coming Royal Carib...  \n",
      "...                                                  ...  \n",
      "17348                  That was a total non sequitur btw  \n",
      "17349  Great Voltaire quote, arguably better than Twa...  \n",
      "17350  I made the volume on the Model S http://t.co/w...  \n",
      "17351  Went to Iceland on Sat to ride bumper cars on ...  \n",
      "17352  Please ignore prior tweets, as that was someon...  \n",
      "\n",
      "[17353 rows x 3 columns]\n"
     ]
    }
   ],
   "source": [
    "for tweet in sntwitter.TwitterSearchScraper(query).get_items():\n",
    "    \n",
    "    # print(vars(tweet))\n",
    "    # break\n",
    "    if len(tweets) == limit:\n",
    "        break\n",
    "    else:\n",
    "        tweets.append([tweet.date, tweet.username, tweet.content])\n",
    "        \n",
    "df = pd.DataFrame(tweets, columns=['Date', 'User', 'Tweet'])\n",
    "print(df)"
   ]
  },
  {
   "cell_type": "code",
   "execution_count": 17,
   "id": "ddc0e670",
   "metadata": {},
   "outputs": [],
   "source": [
    "df.to_csv('tweets.csv')"
   ]
  },
  {
   "cell_type": "code",
   "execution_count": null,
   "id": "a42db5d0",
   "metadata": {},
   "outputs": [],
   "source": []
  },
  {
   "cell_type": "code",
   "execution_count": null,
   "id": "3f31ed62",
   "metadata": {},
   "outputs": [],
   "source": []
  },
  {
   "cell_type": "code",
   "execution_count": null,
   "id": "65fa5aee",
   "metadata": {},
   "outputs": [],
   "source": []
  },
  {
   "cell_type": "code",
   "execution_count": null,
   "id": "36b698f6",
   "metadata": {},
   "outputs": [],
   "source": []
  },
  {
   "cell_type": "code",
   "execution_count": null,
   "id": "e67afd51",
   "metadata": {},
   "outputs": [],
   "source": []
  },
  {
   "cell_type": "code",
   "execution_count": null,
   "id": "190bf57a",
   "metadata": {},
   "outputs": [],
   "source": []
  },
  {
   "cell_type": "code",
   "execution_count": null,
   "id": "2b687cf7",
   "metadata": {},
   "outputs": [],
   "source": []
  }
 ],
 "metadata": {
  "kernelspec": {
   "display_name": "Python 3 (ipykernel)",
   "language": "python",
   "name": "python3"
  },
  "language_info": {
   "codemirror_mode": {
    "name": "ipython",
    "version": 3
   },
   "file_extension": ".py",
   "mimetype": "text/x-python",
   "name": "python",
   "nbconvert_exporter": "python",
   "pygments_lexer": "ipython3",
   "version": "3.9.7"
  }
 },
 "nbformat": 4,
 "nbformat_minor": 5
}
