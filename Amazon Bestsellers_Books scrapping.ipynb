{
 "cells": [
  {
   "cell_type": "markdown",
   "id": "1f121ebb",
   "metadata": {},
   "source": [
    "### Import the libraries"
   ]
  },
  {
   "cell_type": "code",
   "execution_count": 2,
   "id": "625bacd1",
   "metadata": {},
   "outputs": [],
   "source": [
    "from bs4 import BeautifulSoup\n",
    "import requests\n",
    "import csv"
   ]
  },
  {
   "cell_type": "code",
   "execution_count": 3,
   "id": "4a7d9fb7",
   "metadata": {},
   "outputs": [],
   "source": [
    "# get html\n",
    "url = \"https://www.amazon.com/Best-Sellers-Books/zgbs/books\""
   ]
  },
  {
   "cell_type": "code",
   "execution_count": 5,
   "id": "59fb6f37",
   "metadata": {},
   "outputs": [],
   "source": [
    "#User-agent value based on my web browser\n",
    "headers = {'user-agent': 'Mozilla/5.0 (Windows NT 10.0; Win64; x64) AppleWebKit/537.36 (KHTML, like Gecko) Chrome/105.0.0.0 Safari/537.36'}"
   ]
  },
  {
   "cell_type": "code",
   "execution_count": 6,
   "id": "ad7b1706",
   "metadata": {},
   "outputs": [],
   "source": [
    "page = requests.get(url, headers=headers)\n",
    "\n",
    "soup = BeautifulSoup(page.content, 'html.parser')"
   ]
  },
  {
   "cell_type": "code",
   "execution_count": 9,
   "id": "11f86ce9",
   "metadata": {},
   "outputs": [],
   "source": [
    "books = soup.find_all(id=\"gridItemRoot\")\n",
    "\n",
    "csv_headers = ['Rank', 'Title', 'Author', 'Price']\n",
    "with open('amazon_books.csv', 'w', encoding='utf-8', newline='') as f:\n",
    "    writer = csv.writer(f)\n",
    "    writer.writerow(csv_headers)"
   ]
  },
  {
   "cell_type": "code",
   "execution_count": 10,
   "id": "99066067",
   "metadata": {},
   "outputs": [],
   "source": [
    "for book in books:\n",
    "\n",
    "    rank = book.find('span', class_='zg-bdg-text').text[1:]\n",
    "\n",
    "    children = book.find('div', class_='zg-grid-general-faceout').div\n",
    "\n",
    "    title = children.contents[1].text\n",
    "    author = children.contents[2].text\n",
    "    price = children.contents[-1].text\n",
    "   \n",
    "    with open('amazon_books.csv', 'a', encoding='utf-8', newline='') as f:\n",
    "        writer = csv.writer(f)\n",
    "        writer.writerow([rank, title, author, price])"
   ]
  },
  {
   "cell_type": "code",
   "execution_count": null,
   "id": "f85232c5",
   "metadata": {},
   "outputs": [],
   "source": []
  },
  {
   "cell_type": "code",
   "execution_count": null,
   "id": "4246c89f",
   "metadata": {},
   "outputs": [],
   "source": []
  },
  {
   "cell_type": "code",
   "execution_count": null,
   "id": "4a340ab8",
   "metadata": {},
   "outputs": [],
   "source": []
  },
  {
   "cell_type": "code",
   "execution_count": null,
   "id": "a2405c68",
   "metadata": {},
   "outputs": [],
   "source": []
  },
  {
   "cell_type": "code",
   "execution_count": null,
   "id": "291e4f3c",
   "metadata": {},
   "outputs": [],
   "source": []
  },
  {
   "cell_type": "code",
   "execution_count": null,
   "id": "a2960325",
   "metadata": {},
   "outputs": [],
   "source": []
  }
 ],
 "metadata": {
  "kernelspec": {
   "display_name": "Python 3 (ipykernel)",
   "language": "python",
   "name": "python3"
  },
  "language_info": {
   "codemirror_mode": {
    "name": "ipython",
    "version": 3
   },
   "file_extension": ".py",
   "mimetype": "text/x-python",
   "name": "python",
   "nbconvert_exporter": "python",
   "pygments_lexer": "ipython3",
   "version": "3.9.7"
  }
 },
 "nbformat": 4,
 "nbformat_minor": 5
}
